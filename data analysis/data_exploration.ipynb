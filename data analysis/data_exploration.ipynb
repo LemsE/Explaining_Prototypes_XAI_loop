{
 "cells": [
  {
   "attachments": {},
   "cell_type": "markdown",
   "metadata": {},
   "source": [
    "## Data exploration notebook\n",
    "This notebook uses cleanvision from cleanlab to find issues in the CUB-200-2011 bird images dataset. In addition, problematic samples are written to a .csv file such that these can be filtered out during preprocessing."
   ]
  },
  {
   "cell_type": "code",
   "execution_count": null,
   "metadata": {},
   "outputs": [],
   "source": [
    "!pip install git+https://github.com/cleanlab/cleanvision.git"
   ]
  },
  {
   "cell_type": "code",
   "execution_count": null,
   "metadata": {},
   "outputs": [],
   "source": [
    "# Imports\n",
    "from cleanvision.imagelab import Imagelab\n",
    "import os\n",
    "import numpy as np\n",
    "from numpy import genfromtxt"
   ]
  },
  {
   "cell_type": "code",
   "execution_count": null,
   "metadata": {},
   "outputs": [],
   "source": [
    "# Find issues in the whole dataset\n",
    "# Directory where all images are stored\n",
    "rootdir = './data/CUB_200_2011/images/merge_folder'\n",
    "# Find issues with imagelab\n",
    "imagelab = Imagelab(data_path=rootdir)\n",
    "imagelab.find_issues()\n"
   ]
  },
  {
   "cell_type": "code",
   "execution_count": 5,
   "metadata": {},
   "outputs": [
    {
     "data": {
      "text/html": [
       "<div>\n",
       "<style scoped>\n",
       "    .dataframe tbody tr th:only-of-type {\n",
       "        vertical-align: middle;\n",
       "    }\n",
       "\n",
       "    .dataframe tbody tr th {\n",
       "        vertical-align: top;\n",
       "    }\n",
       "\n",
       "    .dataframe thead th {\n",
       "        text-align: right;\n",
       "    }\n",
       "</style>\n",
       "<table border=\"1\" class=\"dataframe\">\n",
       "  <thead>\n",
       "    <tr style=\"text-align: right;\">\n",
       "      <th></th>\n",
       "      <th>issue_type</th>\n",
       "      <th>num_images</th>\n",
       "    </tr>\n",
       "  </thead>\n",
       "  <tbody>\n",
       "    <tr>\n",
       "      <th>0</th>\n",
       "      <td>blurry</td>\n",
       "      <td>15</td>\n",
       "    </tr>\n",
       "    <tr>\n",
       "      <th>1</th>\n",
       "      <td>near_duplicates</td>\n",
       "      <td>10</td>\n",
       "    </tr>\n",
       "    <tr>\n",
       "      <th>2</th>\n",
       "      <td>grayscale</td>\n",
       "      <td>8</td>\n",
       "    </tr>\n",
       "    <tr>\n",
       "      <th>3</th>\n",
       "      <td>low_information</td>\n",
       "      <td>3</td>\n",
       "    </tr>\n",
       "    <tr>\n",
       "      <th>4</th>\n",
       "      <td>exact_duplicates</td>\n",
       "      <td>2</td>\n",
       "    </tr>\n",
       "    <tr>\n",
       "      <th>5</th>\n",
       "      <td>light</td>\n",
       "      <td>1</td>\n",
       "    </tr>\n",
       "    <tr>\n",
       "      <th>6</th>\n",
       "      <td>odd_aspect_ratio</td>\n",
       "      <td>1</td>\n",
       "    </tr>\n",
       "    <tr>\n",
       "      <th>7</th>\n",
       "      <td>dark</td>\n",
       "      <td>0</td>\n",
       "    </tr>\n",
       "  </tbody>\n",
       "</table>\n",
       "</div>"
      ],
      "text/plain": [
       "         issue_type  num_images\n",
       "0            blurry          15\n",
       "1   near_duplicates          10\n",
       "2         grayscale           8\n",
       "3   low_information           3\n",
       "4  exact_duplicates           2\n",
       "5             light           1\n",
       "6  odd_aspect_ratio           1\n",
       "7              dark           0"
      ]
     },
     "execution_count": 5,
     "metadata": {},
     "output_type": "execute_result"
    }
   ],
   "source": [
    "# Summarize issues found\n",
    "imagelab.issue_summary"
   ]
  },
  {
   "cell_type": "code",
   "execution_count": null,
   "metadata": {},
   "outputs": [],
   "source": [
    "# Visualize some near duplicates\n",
    "near_dup_images = imagelab.issues[imagelab.issues[\"is_near_duplicates_issue\"] == True]\n",
    "near_dup_image_files = near_dup_images.index.tolist()\n",
    "print(near_dup_image_files)\n",
    "imagelab.visualize(image_files=near_dup_image_files)"
   ]
  },
  {
   "cell_type": "code",
   "execution_count": null,
   "metadata": {},
   "outputs": [],
   "source": [
    "# Get lists of exact and near duplicate sets\n",
    "exact_dups_list = imagelab.info['exact_duplicates']['sets']\n",
    "near_dups_list = imagelab.info['near_duplicates']['sets']\n",
    "# Concatenate the lists\n",
    "samples_list = exact_dups_list + near_dups_list\n",
    "print(samples_list)\n",
    "print(samples_list[0][0])\n",
    "print(exact_dups_list[0][0])"
   ]
  },
  {
   "cell_type": "code",
   "execution_count": 43,
   "metadata": {},
   "outputs": [],
   "source": [
    "def problematic_samples_tocsv(samples_list : list) -> None:\n",
    "    \"\"\"\n",
    "    Gets the first problematic samples from the sample list and writes the file names to a csv file.\n",
    "\n",
    "    Parameters\n",
    "    -----------\n",
    "        sample_list : list\n",
    "            List containing sets of problematic samples.\n",
    "    \"\"\"\n",
    "    problematic_samples = []\n",
    "    for i in range(len(samples_list)):\n",
    "        path = samples_list[i][0]\n",
    "        head_tail = os.path.split(path)\n",
    "        tail = head_tail[1]\n",
    "        problematic_samples.append(tail)\n",
    "\n",
    "    np.savetxt(\"problematic_samples.csv\", problematic_samples, delimiter=\",\", fmt ='% s')\n",
    "    print(problematic_samples)\n",
    "    print(len(problematic_samples))\n"
   ]
  },
  {
   "cell_type": "code",
   "execution_count": 44,
   "metadata": {},
   "outputs": [
    {
     "name": "stdout",
     "output_type": "stream",
     "text": [
      "['Pigeon_Guillemot_0018_40195.jpg', 'Bronzed_Cowbird_0025_796213.jpg', 'Chuck_Will_Widow_0042_796983.jpg', 'Red_Legged_Kittiwake_0020_795439.jpg', 'Summer_Tanager_0047_140164.jpg', 'Swainson_Warbler_0022_794868.jpg']\n",
      "6\n"
     ]
    }
   ],
   "source": [
    "problematic_samples_tocsv(samples_list=samples_list)"
   ]
  },
  {
   "cell_type": "code",
   "execution_count": 45,
   "metadata": {},
   "outputs": [
    {
     "name": "stdout",
     "output_type": "stream",
     "text": [
      "['Pigeon_Guillemot_0018_40195.jpg' 'Bronzed_Cowbird_0025_796213.jpg'\n",
      " 'Chuck_Will_Widow_0042_796983.jpg' 'Red_Legged_Kittiwake_0020_795439.jpg'\n",
      " 'Summer_Tanager_0047_140164.jpg' 'Swainson_Warbler_0022_794868.jpg']\n"
     ]
    }
   ],
   "source": [
    "# Load problematic samples from csv\n",
    "laoded_problematic_samples = np.loadtxt('problematic_samples.csv', delimiter=',', dtype=str )\n",
    "print(laoded_problematic_samples)"
   ]
  },
  {
   "cell_type": "code",
   "execution_count": 60,
   "metadata": {},
   "outputs": [
    {
     "name": "stdout",
     "output_type": "stream",
     "text": [
      "problematic samples skipped in train test split:  Chuck_Will_Widow_0042_796983.jpg\n",
      "problematic samples skipped in train test split:  Bronzed_Cowbird_0025_796213.jpg\n",
      "problematic samples skipped in train test split:  Pigeon_Guillemot_0018_40195.jpg\n",
      "problematic samples skipped in train test split:  Red_Legged_Kittiwake_0020_795439.jpg\n",
      "problematic samples skipped in train test split:  Summer_Tanager_0047_140164.jpg\n",
      "problematic samples skipped in train test split:  Swainson_Warbler_0022_794868.jpg\n"
     ]
    }
   ],
   "source": [
    "\n",
    "# Test code for crop_imgages.py\n",
    "# To filter out the problematic samples\n",
    "\n",
    "boxes = open(\"./data/CUB_200_2011/bounding_boxes.txt\")\n",
    "images_id = open(\"./data/CUB_200_2011/images.txt\")\n",
    "train_test = open(\"C./data/CUB_200_2011/train_test_split.txt\")\n",
    "\n",
    "\n",
    "\n",
    "for (line, box, train) in zip(images_id, boxes, train_test):\n",
    "    i = 0\n",
    "    image_path = line.split()[1]\n",
    "    image_name = image_path.split(\"/\")[1]\n",
    "    is_train = int(train.split()[1])\n",
    "\n",
    "    if is_train and not(image_name in laoded_problematic_samples):\n",
    "        i+=1\n",
    "    elif not (is_train) and not(image_name in laoded_problematic_samples):\n",
    "        i+=2\n",
    "    else: \n",
    "        print(\"problematic samples skipped in train test split: \", image_name)\n"
   ]
  },
  {
   "cell_type": "code",
   "execution_count": null,
   "metadata": {},
   "outputs": [],
   "source": []
  }
 ],
 "metadata": {
  "kernelspec": {
   "display_name": ".venv",
   "language": "python",
   "name": "python3"
  },
  "language_info": {
   "codemirror_mode": {
    "name": "ipython",
    "version": 3
   },
   "file_extension": ".py",
   "mimetype": "text/x-python",
   "name": "python",
   "nbconvert_exporter": "python",
   "pygments_lexer": "ipython3",
   "version": "3.9.13"
  },
  "orig_nbformat": 4
 },
 "nbformat": 4,
 "nbformat_minor": 2
}
