{
 "cells": [
  {
   "cell_type": "code",
   "execution_count": 1,
   "metadata": {},
   "outputs": [],
   "source": [
    "# Imports\n",
    "import shutil\n",
    "import os"
   ]
  },
  {
   "cell_type": "code",
   "execution_count": 2,
   "metadata": {},
   "outputs": [],
   "source": [
    "def make_new_folder(folder_name : str, parent_folder : str ) -> None:\n",
    "    \"\"\"\n",
    "    Creates a new folder in the parent_folder if the folder with name folder_name does not exist yet.\n",
    "\n",
    "    Parameters\n",
    "    -----------\n",
    "        folder_name : str\n",
    "            Name of the folder to be made\n",
    "        parent_folder : str\n",
    "            Name of the folder in which the new folder will be made       \n",
    "    \"\"\"  \n",
    "    # Path\n",
    "    path = os.path.join(parent_folder, folder_name)\n",
    "      \n",
    "    # Create the new folder in the parent folder\n",
    "    try: \n",
    "        # mode of the folder (default)\n",
    "        mode = 0o777\n",
    "        # Create the new folder\n",
    "        os.mkdir(path, mode)\n",
    "        print(\"Directory '% s' is built!\" % path)  \n",
    "    except OSError as error: \n",
    "        print(error)"
   ]
  },
  {
   "cell_type": "code",
   "execution_count": 3,
   "metadata": {},
   "outputs": [],
   "source": [
    "def list_folders(current_folder : str) -> list:\n",
    "    \"\"\"\n",
    "    Makes a list of folders that are present in the current folder.\n",
    "\n",
    "    Parameters\n",
    "    -----------\n",
    "        current_folder : str\n",
    "            Name of the current folder in which we will list all folders\n",
    "\n",
    "    Returns\n",
    "    -----------     \n",
    "        list_dir : list\n",
    "            list of all folders in the current folder\n",
    "    \"\"\"  \n",
    "    list_dir = []\n",
    "    for file in os.listdir(current_folder):\n",
    "        # get subfolder path\n",
    "        dataset_path = os.path.join(current_folder, file)\n",
    "        list_dir.append(dataset_path)\n",
    "    return list_dir"
   ]
  },
  {
   "cell_type": "code",
   "execution_count": 4,
   "metadata": {},
   "outputs": [],
   "source": [
    "def get_folder_contents(list_dir : list, current_folder : str) -> dict:\n",
    "    \"\"\"\n",
    "    Gets all contents in a folder and returns a dictionary with the folder name as key and the content as the value.\n",
    "\n",
    "    Parameters\n",
    "    -----------\n",
    "        current_folder : str\n",
    "            Name of the current folder\n",
    "        list_dir : list\n",
    "            List of all folders in the current folder\n",
    "\n",
    "    Returns\n",
    "    -----------     \n",
    "        content_list : dict\n",
    "            Dictionary with the folder name as key and the content as the value\n",
    "    \"\"\"  \n",
    "    content_list = {}\n",
    "    for index, val in enumerate(list_dir):\n",
    "        path = os.path.join(current_folder, val)\n",
    "        content_list[ list_dir[index] ] = os.listdir(path)\n",
    "    return content_list"
   ]
  },
  {
   "cell_type": "code",
   "execution_count": 5,
   "metadata": {},
   "outputs": [],
   "source": [
    "def merge_folder_contents(content_list : dict, current_folder : str, merge_folder_path : str) -> None:\n",
    "    \"\"\"\n",
    "    Loops troughs the dictionary with all folders and loops through all contents of each folder and moves each file to the destination merge folder.\n",
    "\n",
    "    Parameters\n",
    "    -----------\n",
    "        content_list : dict\n",
    "            Dictionary with the folder name as key and the content as the value\n",
    "        current_folder : str\n",
    "            Name of the current folder\n",
    "        merge_folder_path : str\n",
    "            Destination folder to which all files of content_list will be moved to\n",
    "    \"\"\"  \n",
    "    # loop through the list of folders\n",
    "    for sub_dir in content_list:\n",
    "    \n",
    "        # loop through the files of the list of folders\n",
    "        for contents in content_list[sub_dir]:\n",
    "    \n",
    "            # make the path of the content to move \n",
    "            path_to_content = sub_dir + \"/\" + contents  \n",
    "    \n",
    "            # make the path with the current folder\n",
    "            dir_to_move = os.path.join(current_folder, path_to_content )\n",
    "    \n",
    "            shutil.move(dir_to_move, merge_folder_path)"
   ]
  },
  {
   "cell_type": "code",
   "execution_count": null,
   "metadata": {},
   "outputs": [],
   "source": [
    "current_folder = './data/CUB_200_2011/images'\n",
    "merge_folder = 'merge_folder'\n",
    "\n",
    "merge_folder_path = os.path.join(current_folder, merge_folder) \n",
    "  \n",
    "content_list = get_folder_contents(list_dir=list_folders(current_folder), current_folder=current_folder)\n",
    "\n",
    "make_new_folder(merge_folder, current_folder)\n",
    "merge_folder_contents(content_list=content_list,current_folder=current_folder, merge_folder_path=merge_folder_path)"
   ]
  },
  {
   "cell_type": "code",
   "execution_count": null,
   "metadata": {},
   "outputs": [],
   "source": []
  }
 ],
 "metadata": {
  "kernelspec": {
   "display_name": ".venv",
   "language": "python",
   "name": "python3"
  },
  "language_info": {
   "codemirror_mode": {
    "name": "ipython",
    "version": 3
   },
   "file_extension": ".py",
   "mimetype": "text/x-python",
   "name": "python",
   "nbconvert_exporter": "python",
   "pygments_lexer": "ipython3",
   "version": "3.9.13"
  },
  "orig_nbformat": 4
 },
 "nbformat": 4,
 "nbformat_minor": 2
}
