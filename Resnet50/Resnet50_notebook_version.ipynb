{
 "cells": [
  {
   "attachments": {},
   "cell_type": "markdown",
   "metadata": {},
   "source": [
    "## Notebook as scratch space"
   ]
  },
  {
   "cell_type": "code",
   "execution_count": 1,
   "metadata": {},
   "outputs": [],
   "source": [
    "import numpy as np\n",
    "import matplotlib.pyplot as plt\n",
    "from PIL import Image\n",
    "\n",
    "\n",
    "import torch\n",
    "from torchvision import datasets, models, transforms\n",
    "import torch.nn as nn\n",
    "from torch.nn import functional as F\n",
    "import torch.optim as optim\n",
    "from torchvision.models import resnet50, ResNet50_Weights\n",
    "import pandas as pd\n",
    "\n",
    "import torchvision\n",
    "\n",
    "import os"
   ]
  },
  {
   "cell_type": "code",
   "execution_count": 2,
   "metadata": {},
   "outputs": [],
   "source": [
    "train_dir = 'C:/Users/elise/Master thesis/Explaining_Prototypes_XAI_loop/data/CUB_200_2011/datasets/cub200_cropped/train_cropped'\n",
    "test_dir = 'C:/Users/elise/Master thesis/Explaining_Prototypes_XAI_loop/data/CUB_200_2011/datasets/cub200_cropped/test_cropped'\n",
    "\n",
    "img_size = 224\n",
    "mean = (0.485, 0.456, 0.406)\n",
    "std = (0.229, 0.224, 0.225)\n",
    "\n",
    "train_batch_size = 80\n",
    "test_batch_size = 100"
   ]
  },
  {
   "cell_type": "code",
   "execution_count": 3,
   "metadata": {},
   "outputs": [
    {
     "name": "stdout",
     "output_type": "stream",
     "text": [
      "<class 'torchvision.datasets.folder.ImageFolder'>\n",
      "<class 'torch.utils.data.dataset.Subset'>\n",
      "4795\n",
      "1199\n"
     ]
    }
   ],
   "source": [
    "normalize = transforms.Normalize(mean=mean,\n",
    "                                    std=std)\n",
    "image_datasets = {\n",
    "    'train':datasets.ImageFolder(\n",
    "    train_dir,\n",
    "    transforms.Compose([\n",
    "        transforms.Resize(size=(img_size, img_size)),\n",
    "        transforms.ToTensor(),\n",
    "        normalize,\n",
    "    ])),\n",
    "    'test':\n",
    "    datasets.ImageFolder(\n",
    "        test_dir,\n",
    "        transforms.Compose([\n",
    "            transforms.Resize(size=(img_size, img_size)),\n",
    "            transforms.ToTensor(),\n",
    "            normalize,\n",
    "        ]))\n",
    " }\n",
    "\n",
    "train_set_size = int(len(image_datasets['train']) * 0.8)\n",
    "valid_set_size = len(image_datasets['train']) - train_set_size\n",
    "train_set , valid_set = torch.utils.data.random_split(image_datasets['train'],[train_set_size,valid_set_size])\n",
    "print(type(image_datasets['train']))\n",
    "print(type(train_set))\n",
    "print((len(train_set)))\n",
    "print((len(valid_set)))\n"
   ]
  },
  {
   "cell_type": "code",
   "execution_count": 8,
   "metadata": {},
   "outputs": [
    {
     "name": "stdout",
     "output_type": "stream",
     "text": [
      "60\n"
     ]
    }
   ],
   "source": [
    "dataloaders = {\n",
    "    'train':\n",
    "    torch.utils.data.DataLoader(\n",
    "    train_set, batch_size=train_batch_size, shuffle=True,\n",
    "    num_workers=4, pin_memory=False),\n",
    "    'validation':\n",
    "    torch.utils.data.DataLoader(\n",
    "    valid_set, batch_size=train_batch_size, shuffle=True,\n",
    "    num_workers=4, pin_memory=False),\n",
    "    'test':\n",
    "    torch.utils.data.DataLoader(\n",
    "    image_datasets['test'], batch_size=test_batch_size, shuffle=False,\n",
    "    num_workers=4, pin_memory=False)\n",
    "\n",
    "}\n",
    "print(len(dataloaders['train']))"
   ]
  },
  {
   "cell_type": "code",
   "execution_count": 7,
   "metadata": {},
   "outputs": [
    {
     "name": "stdout",
     "output_type": "stream",
     "text": [
      "cuda:0\n",
      "<class 'torch.nn.modules.loss.CrossEntropyLoss'>\n",
      "<class 'torch.optim.adam.Adam'>\n",
      "<class 'torch.device'>\n"
     ]
    }
   ],
   "source": [
    "device = torch.device(\"cuda:0\" if torch.cuda.is_available() else \"cpu\")\n",
    "print(device)\n",
    "#ResNet50_Weights.IMAGENET1K_V1\n",
    "# ResNet50_Weights.DEFAULT\n",
    "model = resnet50(weights=ResNet50_Weights.IMAGENET1K_V2).to(device)\n",
    "    \n",
    "for param in model.parameters():\n",
    "    param.requires_grad = False   \n",
    "    \n",
    "model.fc = nn.Sequential(\n",
    "               nn.Linear(2048, 200)).to(device)\n",
    "            #    nn.Linear(2048, 128),\n",
    "            #    nn.ReLU(inplace=True),\n",
    "            #    nn.Linear(128, 200)).to(device)\n",
    "\n",
    "\n",
    "\n",
    "criterion = nn.CrossEntropyLoss()\n",
    "optimizer = optim.Adam(model.fc.parameters())\n",
    "\n",
    "print(type(criterion))\n",
    "print(type(optimizer))\n",
    "print(type(device))"
   ]
  },
  {
   "cell_type": "code",
   "execution_count": 6,
   "metadata": {},
   "outputs": [],
   "source": [
    "def train_model(model, criterion, optimizer, num_epochs):\n",
    "    history = pd.DataFrame(\n",
    "    columns = ['train_loss', 'validation_loss']\n",
    "    )\n",
    "    for epoch in range(num_epochs):\n",
    "        print('Epoch {}/{}'.format(epoch+1, num_epochs))\n",
    "        print('-' * 10)\n",
    "        dataset_size = 0\n",
    "        for phase in ['train', 'validation']:\n",
    "            if phase == 'train':\n",
    "                dataset_size = len(train_set)\n",
    "                model.train()\n",
    "            else:\n",
    "                dataset_size = len(valid_set)\n",
    "                model.eval()\n",
    "\n",
    "            running_loss = 0.0\n",
    "            running_corrects = 0\n",
    "\n",
    "            for inputs, labels in dataloaders[phase]:\n",
    "                inputs = inputs.to(device)\n",
    "                labels = labels.to(device)\n",
    "\n",
    "                outputs = model(inputs)\n",
    "                loss = criterion(outputs, labels)\n",
    "\n",
    "                if phase == 'train':\n",
    "                    optimizer.zero_grad()\n",
    "                    loss.backward()\n",
    "                    optimizer.step()\n",
    "\n",
    "                _, preds = torch.max(outputs, 1)\n",
    "                running_loss += loss.item() * inputs.size(0)\n",
    "                running_corrects += torch.sum(preds == labels.data)\n",
    "\n",
    "            epoch_loss = running_loss / dataset_size\n",
    "            epoch_acc = running_corrects.double() / dataset_size\n",
    "\n",
    "            history.loc[epoch, phase + '_loss'] = epoch_loss\n",
    "            # history.loc[epoch, phase + '_accuracy'] = epoch_acc\n",
    "\n",
    "            print('{} loss: {:.4f}, acc: {:.4f}'.format(phase,\n",
    "                                                        epoch_loss,\n",
    "                                                        epoch_acc))\n",
    "    return model, history\n",
    "\n"
   ]
  },
  {
   "cell_type": "code",
   "execution_count": null,
   "metadata": {},
   "outputs": [],
   "source": [
    "model_trained, history = train_model(model, criterion, optimizer, num_epochs=15)"
   ]
  },
  {
   "cell_type": "code",
   "execution_count": null,
   "metadata": {},
   "outputs": [],
   "source": [
    "def makedir(path):\n",
    "    if not os.path.exists(path):\n",
    "        os.makedirs(path)  "
   ]
  },
  {
   "cell_type": "code",
   "execution_count": null,
   "metadata": {},
   "outputs": [],
   "source": [
    "model_save_path = 'C:/Users/elise/Master thesis/Explaining_Prototypes_XAI_loop/Resnet50/trained_models'\n",
    "\n",
    "makedir(model_save_path)"
   ]
  },
  {
   "cell_type": "code",
   "execution_count": null,
   "metadata": {},
   "outputs": [],
   "source": [
    "torch.save(model_trained.state_dict(), model_save_path +'/weights_imagenetv2_epoch15.h5')"
   ]
  },
  {
   "cell_type": "code",
   "execution_count": null,
   "metadata": {},
   "outputs": [
    {
     "data": {
      "text/plain": [
       "<All keys matched successfully>"
      ]
     },
     "execution_count": 14,
     "metadata": {},
     "output_type": "execute_result"
    }
   ],
   "source": [
    "loaded_model = resnet50(weights=None).to(device)\n",
    "loaded_model.fc = nn.Sequential(\n",
    "               nn.Linear(2048, 200)).to(device)\n",
    "            #     nn.Linear(2048, 128),\n",
    "            #    nn.ReLU(inplace=True),\n",
    "            #    nn.Linear(128, 200)).to(device)\n",
    "            \n",
    "loaded_model.load_state_dict(torch.load('trained_models/weights_imagenetv2_epoch15.h5'))"
   ]
  },
  {
   "cell_type": "code",
   "execution_count": null,
   "metadata": {},
   "outputs": [
    {
     "data": {
      "text/plain": [
       "<Axes: >"
      ]
     },
     "execution_count": 16,
     "metadata": {},
     "output_type": "execute_result"
    },
    {
     "data": {
      "image/png": "[encoded data removed]",
      "text/plain": [
       "<Figure size 700x400 with 1 Axes>"
      ]
     },
     "metadata": {},
     "output_type": "display_data"
    }
   ],
   "source": [
    "history.plot( y= ['train_loss', 'validation_loss'], kind='line', figsize=(7,4))"
   ]
  },
  {
   "cell_type": "code",
   "execution_count": null,
   "metadata": {},
   "outputs": [
    {
     "name": "stdout",
     "output_type": "stream",
     "text": [
      "tensor(0.6099, device='cuda:0')\n"
     ]
    }
   ],
   "source": [
    "loaded_model.eval()\n",
    "with torch.no_grad():\n",
    "    n_correct = 0\n",
    "    for i, (inputs,labels) in enumerate(dataloaders['test']):\n",
    "        inputs =inputs.to(device)\n",
    "        labels = labels.to(device)\n",
    "\n",
    "        outputs = loaded_model(inputs)\n",
    "        _, predicted = torch.max(outputs, 1)\n",
    "        \n",
    "        n_correct += torch.sum(predicted == labels.data)\n",
    "    accuracy = n_correct/len(image_datasets['test'])\n",
    "    print(accuracy)"
   ]
  },
  {
   "cell_type": "code",
   "execution_count": 49,
   "metadata": {},
   "outputs": [
    {
     "data": {
      "text/plain": [
       "<Axes: >"
      ]
     },
     "execution_count": 49,
     "metadata": {},
     "output_type": "execute_result"
    },
    {
     "data": {
      "image/png": "[encoded data removed]",
      "text/plain": [
       "<Figure size 700x400 with 1 Axes>"
      ]
     },
     "metadata": {},
     "output_type": "display_data"
    }
   ],
   "source": [
    "history.plot( y= ['train_loss', 'validation_loss'], kind='line', figsize=(7,4))"
   ]
  },
  {
   "cell_type": "code",
   "execution_count": null,
   "metadata": {},
   "outputs": [],
   "source": []
  }
 ],
 "metadata": {
  "kernelspec": {
   "display_name": ".venv",
   "language": "python",
   "name": "python3"
  },
  "language_info": {
   "codemirror_mode": {
    "name": "ipython",
    "version": 3
   },
   "file_extension": ".py",
   "mimetype": "text/x-python",
   "name": "python",
   "nbconvert_exporter": "python",
   "pygments_lexer": "ipython3",
   "version": "3.9.0"
  },
  "orig_nbformat": 4
 },
 "nbformat": 4,
 "nbformat_minor": 2
}
